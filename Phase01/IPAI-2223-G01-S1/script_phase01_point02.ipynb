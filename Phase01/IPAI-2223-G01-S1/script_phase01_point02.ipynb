{
 "cells": [
  {
   "attachments": {},
   "cell_type": "markdown",
   "metadata": {},
   "source": [
    "# IPAI Project - 1st Phase - Point 2"
   ]
  },
  {
   "attachments": {},
   "cell_type": "markdown",
   "metadata": {},
   "source": [
    "## Group 1\n",
    "#### Tiago Rodrigues (49593)\n",
    "#### Ivo Oliveira (50301)\n",
    "#### Martim Silva (51304)\n",
    "#### Alexandre Sobreira (59451)"
   ]
  },
  {
   "attachments": {},
   "cell_type": "markdown",
   "metadata": {},
   "source": [
    "# Libraries"
   ]
  },
  {
   "cell_type": "code",
   "execution_count": 12,
   "metadata": {},
   "outputs": [],
   "source": [
    "import pandas as pd"
   ]
  },
  {
   "attachments": {},
   "cell_type": "markdown",
   "metadata": {},
   "source": [
    "## Orders (Main table)"
   ]
  },
  {
   "attachments": {},
   "cell_type": "markdown",
   "metadata": {},
   "source": [
    "For the Orders dataset the following steps were performed:\n",
    "- Read in the dataset\n",
    "- Convert Row ID and Quantity to integer data type\n",
    "- Convert Order ID, Customer ID, Customer Name, City, State, Country, Region, Market, Product ID and Product Name to string data type\n",
    "- Convert Ship Date and Order Date to date data type\n",
    "- Convert Segment, Category, Sub-Category and Order Priority to category data type\n",
    "- Drop the Postal Code column since it wont be used for the analysis"
   ]
  },
  {
   "cell_type": "code",
   "execution_count": 13,
   "metadata": {},
   "outputs": [],
   "source": [
    "# Read in the dataset\n",
    "main = pd.read_excel('main.xlsx')\n",
    "\n",
    "# Convert Row ID and Quantity to integer data type\n",
    "main['Row ID'] = main['Row ID'].astype(int)\n",
    "main['Quantity'] = main['Quantity'].astype(int)\n",
    "\n",
    "# Convert Order ID, Customer ID, Customer Name, City, State, Country, Region, Market, Product ID and Product Name to string data type\n",
    "main['Order ID'] = main['Order ID'].astype(str)\n",
    "main['Customer ID'] = main['Customer ID'].astype(str)\n",
    "main['Customer Name'] = main['Customer Name'].astype(str)\n",
    "main['City'] = main['City'].astype(str)\n",
    "main['State'] = main['State'].astype(str)\n",
    "main['Country'] = main['Country'].astype(str)\n",
    "main['Region'] = main['Region'].astype(str)\n",
    "main['Market'] = main['Market'].astype(str)\n",
    "main['Product ID'] = main['Product ID'].astype(str)\n",
    "main['Product Name'] = main['Product Name'].astype(str)\n",
    "\n",
    "# Convert Ship Date and Order Date to date data type\n",
    "main['Ship Date'] = pd.to_datetime(main['Ship Date'])\n",
    "main['Order Date'] = pd.to_datetime(main['Order Date'])\n",
    "\n",
    "# Convert Segment, Category, Sub-Category and Order Priority to category data type\n",
    "main['Segment'] = main['Segment'].astype('category')\n",
    "main['Category'] = main['Category'].astype('category')\n",
    "main['Sub-Category'] = main['Sub-Category'].astype('category')\n",
    "main['Order Priority'] = main['Order Priority'].astype('category')"
   ]
  },
  {
   "cell_type": "code",
   "execution_count": 14,
   "metadata": {},
   "outputs": [],
   "source": [
    "main = main.drop('Postal Code', axis=1)"
   ]
  },
  {
   "cell_type": "code",
   "execution_count": 15,
   "metadata": {},
   "outputs": [
    {
     "name": "stdout",
     "output_type": "stream",
     "text": [
      "<class 'pandas.core.frame.DataFrame'>\n",
      "RangeIndex: 51290 entries, 0 to 51289\n",
      "Data columns (total 23 columns):\n",
      " #   Column          Non-Null Count  Dtype         \n",
      "---  ------          --------------  -----         \n",
      " 0   Row ID          51290 non-null  int32         \n",
      " 1   Order ID        51290 non-null  object        \n",
      " 2   Order Date      51290 non-null  datetime64[ns]\n",
      " 3   Ship Date       51290 non-null  datetime64[ns]\n",
      " 4   Ship Mode       51290 non-null  object        \n",
      " 5   Customer ID     51290 non-null  object        \n",
      " 6   Customer Name   51290 non-null  object        \n",
      " 7   Segment         51290 non-null  category      \n",
      " 8   City            51290 non-null  object        \n",
      " 9   State           51290 non-null  object        \n",
      " 10  Country         51290 non-null  object        \n",
      " 11  Region          51290 non-null  object        \n",
      " 12  Market          51290 non-null  object        \n",
      " 13  Product ID      51290 non-null  object        \n",
      " 14  Category        51290 non-null  category      \n",
      " 15  Sub-Category    51290 non-null  category      \n",
      " 16  Product Name    51290 non-null  object        \n",
      " 17  Sales           51290 non-null  float64       \n",
      " 18  Quantity        51290 non-null  int32         \n",
      " 19  Discount        51290 non-null  float64       \n",
      " 20  Profit          51290 non-null  float64       \n",
      " 21  Shipping Cost   51290 non-null  float64       \n",
      " 22  Order Priority  51290 non-null  category      \n",
      "dtypes: category(4), datetime64[ns](2), float64(4), int32(2), object(11)\n",
      "memory usage: 7.2+ MB\n"
     ]
    }
   ],
   "source": [
    "main.info()"
   ]
  },
  {
   "attachments": {},
   "cell_type": "markdown",
   "metadata": {},
   "source": [
    "## Customers Table"
   ]
  },
  {
   "attachments": {},
   "cell_type": "markdown",
   "metadata": {},
   "source": [
    "For the customers_USA dataset the following steps were performed:\n",
    "- Read in the dataset\n",
    "- Convert Row ID and Quantity to integer data type\n",
    "- Convert Order ID, Customer ID, Customer Name, City, State, Country, Region, Market, Product ID and Product Name to string data type\n",
    "- Convert Ship Date and Order Date to date data type\n",
    "- Convert Segment, Category, Sub-Category and Order Priority to category data type\n",
    "- Drop the Postal Code column since it wont be used for the analysis"
   ]
  },
  {
   "cell_type": "code",
   "execution_count": 16,
   "metadata": {},
   "outputs": [],
   "source": [
    "# Read in the dataset\n",
    "customers = pd.read_csv('costumers.csv', encoding='latin1')\n",
    "\n",
    "# Convert Row ID and Quantity to integer data type\n",
    "customers['Row ID'] = customers['Row ID'].astype(int)\n",
    "customers['Quantity'] = customers['Quantity'].astype(int)\n",
    "\n",
    "# Convert Order ID, Customer ID, Customer Name, City, State, Country, Region, Market, Product ID and Product Name to string data type\n",
    "customers['Order ID'] = customers['Order ID'].astype(str)\n",
    "customers['Customer ID'] = customers['Customer ID'].astype(str)\n",
    "customers['Customer Name'] = customers['Customer Name'].astype(str)\n",
    "customers['City'] = customers['City'].astype(str)\n",
    "customers['State'] = customers['State'].astype(str)\n",
    "customers['Country'] = customers['Country'].astype(str)\n",
    "customers['Region'] = customers['Region'].astype(str)\n",
    "customers['Product ID'] = customers['Product ID'].astype(str)\n",
    "customers['Product Name'] = customers['Product Name'].astype(str)\n",
    "\n",
    "# Convert Ship Date and Order Date to date data type\n",
    "customers['Ship Date'] = pd.to_datetime(customers['Ship Date'])\n",
    "customers['Order Date'] = pd.to_datetime(customers['Order Date'])\n",
    "\n",
    "# Convert Segment, Category, Sub-Category and Order Priority to category data type\n",
    "customers['Segment'] = customers['Segment'].astype('category')\n",
    "customers['Category'] = customers['Category'].astype('category')\n",
    "customers['Sub-Category'] = customers['Sub-Category'].astype('category')"
   ]
  },
  {
   "cell_type": "code",
   "execution_count": 17,
   "metadata": {},
   "outputs": [
    {
     "name": "stdout",
     "output_type": "stream",
     "text": [
      "<class 'pandas.core.frame.DataFrame'>\n",
      "RangeIndex: 9994 entries, 0 to 9993\n",
      "Data columns (total 21 columns):\n",
      " #   Column         Non-Null Count  Dtype         \n",
      "---  ------         --------------  -----         \n",
      " 0   Row ID         9994 non-null   int32         \n",
      " 1   Order ID       9994 non-null   object        \n",
      " 2   Order Date     9994 non-null   datetime64[ns]\n",
      " 3   Ship Date      9994 non-null   datetime64[ns]\n",
      " 4   Ship Mode      9994 non-null   object        \n",
      " 5   Customer ID    9994 non-null   object        \n",
      " 6   Customer Name  9994 non-null   object        \n",
      " 7   Segment        9994 non-null   category      \n",
      " 8   Country        9994 non-null   object        \n",
      " 9   City           9994 non-null   object        \n",
      " 10  State          9994 non-null   object        \n",
      " 11  Postal Code    9994 non-null   int64         \n",
      " 12  Region         9994 non-null   object        \n",
      " 13  Product ID     9994 non-null   object        \n",
      " 14  Category       9994 non-null   category      \n",
      " 15  Sub-Category   9994 non-null   category      \n",
      " 16  Product Name   9994 non-null   object        \n",
      " 17  Sales          9994 non-null   float64       \n",
      " 18  Quantity       9994 non-null   int32         \n",
      " 19  Discount       9994 non-null   float64       \n",
      " 20  Profit         9994 non-null   float64       \n",
      "dtypes: category(3), datetime64[ns](2), float64(3), int32(2), int64(1), object(10)\n",
      "memory usage: 1.3+ MB\n"
     ]
    }
   ],
   "source": [
    "customers.info()"
   ]
  },
  {
   "attachments": {},
   "cell_type": "markdown",
   "metadata": {},
   "source": [
    "## Returns Table"
   ]
  },
  {
   "attachments": {},
   "cell_type": "markdown",
   "metadata": {},
   "source": [
    "For the Returns dataset the following steps were performed:\n",
    "- Read in the dataset\n",
    "- Convert Order ID and Region to string data type\n",
    "- Convert Returned column to a boolean data type"
   ]
  },
  {
   "cell_type": "code",
   "execution_count": 18,
   "metadata": {},
   "outputs": [
    {
     "name": "stdout",
     "output_type": "stream",
     "text": [
      "<class 'pandas.core.frame.DataFrame'>\n",
      "RangeIndex: 1079 entries, 0 to 1078\n",
      "Data columns (total 3 columns):\n",
      " #   Column    Non-Null Count  Dtype \n",
      "---  ------    --------------  ----- \n",
      " 0   Returned  1079 non-null   bool  \n",
      " 1   Order ID  1079 non-null   object\n",
      " 2   Region    1079 non-null   object\n",
      "dtypes: bool(1), object(2)\n",
      "memory usage: 18.0+ KB\n"
     ]
    }
   ],
   "source": [
    "# Read in the dataset\n",
    "returns = pd.read_csv('returns.csv', encoding='latin1')\n",
    "\n",
    "# Convert Order ID and Region to string data type\n",
    "returns['Order ID'] = returns['Order ID'].astype(str)\n",
    "returns['Region'] = returns['Region'].astype(str)\n",
    "\n",
    "# Convert Returned column to a boolean data type\n",
    "returns['Returned'] = returns['Returned'].map({'Yes': True, 'No': False})\n",
    "returns['Returned'] = returns['Returned'].astype(bool)\n",
    "returns.info()"
   ]
  },
  {
   "attachments": {},
   "cell_type": "markdown",
   "metadata": {},
   "source": [
    "## Sellers"
   ]
  },
  {
   "attachments": {},
   "cell_type": "markdown",
   "metadata": {},
   "source": [
    "For the Sellers dataset the following steps were performed:\n",
    "- Read in the dataset\n",
    "- Convert Person and Region to string data type"
   ]
  },
  {
   "cell_type": "code",
   "execution_count": 19,
   "metadata": {},
   "outputs": [
    {
     "name": "stdout",
     "output_type": "stream",
     "text": [
      "<class 'pandas.core.frame.DataFrame'>\n",
      "RangeIndex: 1079 entries, 0 to 1078\n",
      "Data columns (total 3 columns):\n",
      " #   Column    Non-Null Count  Dtype \n",
      "---  ------    --------------  ----- \n",
      " 0   Returned  1079 non-null   bool  \n",
      " 1   Order ID  1079 non-null   object\n",
      " 2   Region    1079 non-null   object\n",
      "dtypes: bool(1), object(2)\n",
      "memory usage: 18.0+ KB\n"
     ]
    }
   ],
   "source": [
    "# Read in the dataset\n",
    "sellers = pd.read_csv('sellers.csv', delimiter=';')\n",
    "\n",
    "# Convert Person and Region to string data type\n",
    "sellers['Person'] = sellers['Person'].astype(str)\n",
    "sellers['Region'] = sellers['Region'].astype(str)\n",
    "\n",
    "returns.info()"
   ]
  },
  {
   "attachments": {},
   "cell_type": "markdown",
   "metadata": {},
   "source": [
    "## GDP"
   ]
  },
  {
   "attachments": {},
   "cell_type": "markdown",
   "metadata": {},
   "source": [
    "For the GDP_USA dataset the following steps were performed:\n",
    "- Read in the dataset\n",
    "- Filter out all entries where the state is either Alaska or Hawaii\n",
    "- Remove Region, SUB-REGION, County columns\n",
    "- Filter the years that are not between 2012 and 2015\n",
    "- Convert Year to an integer date type\n",
    "- Calculate the mean and sum of the GDP values for each state and year"
   ]
  },
  {
   "cell_type": "code",
   "execution_count": 20,
   "metadata": {},
   "outputs": [
    {
     "data": {
      "text/html": [
       "<div>\n",
       "<style scoped>\n",
       "    .dataframe tbody tr th:only-of-type {\n",
       "        vertical-align: middle;\n",
       "    }\n",
       "\n",
       "    .dataframe tbody tr th {\n",
       "        vertical-align: top;\n",
       "    }\n",
       "\n",
       "    .dataframe thead th {\n",
       "        text-align: right;\n",
       "    }\n",
       "</style>\n",
       "<table border=\"1\" class=\"dataframe\">\n",
       "  <thead>\n",
       "    <tr style=\"text-align: right;\">\n",
       "      <th></th>\n",
       "      <th></th>\n",
       "      <th>mean</th>\n",
       "      <th>sum</th>\n",
       "    </tr>\n",
       "    <tr>\n",
       "      <th>State</th>\n",
       "      <th>Year</th>\n",
       "      <th></th>\n",
       "      <th></th>\n",
       "    </tr>\n",
       "  </thead>\n",
       "  <tbody>\n",
       "    <tr>\n",
       "      <th rowspan=\"4\" valign=\"top\">Alabama</th>\n",
       "      <th>2012-01-01</th>\n",
       "      <td>2.780582e+09</td>\n",
       "      <td>1.862990e+11</td>\n",
       "    </tr>\n",
       "    <tr>\n",
       "      <th>2013-01-01</th>\n",
       "      <td>2.808378e+09</td>\n",
       "      <td>1.881613e+11</td>\n",
       "    </tr>\n",
       "    <tr>\n",
       "      <th>2014-01-01</th>\n",
       "      <td>2.788524e+09</td>\n",
       "      <td>1.868311e+11</td>\n",
       "    </tr>\n",
       "    <tr>\n",
       "      <th>2015-01-01</th>\n",
       "      <td>2.825180e+09</td>\n",
       "      <td>1.892870e+11</td>\n",
       "    </tr>\n",
       "    <tr>\n",
       "      <th>Arizona</th>\n",
       "      <th>2012-01-01</th>\n",
       "      <td>1.788591e+10</td>\n",
       "      <td>2.682886e+11</td>\n",
       "    </tr>\n",
       "    <tr>\n",
       "      <th>...</th>\n",
       "      <th>...</th>\n",
       "      <td>...</td>\n",
       "      <td>...</td>\n",
       "    </tr>\n",
       "    <tr>\n",
       "      <th>Wisconsin</th>\n",
       "      <th>2015-01-01</th>\n",
       "      <td>3.988837e+09</td>\n",
       "      <td>2.871963e+11</td>\n",
       "    </tr>\n",
       "    <tr>\n",
       "      <th rowspan=\"4\" valign=\"top\">Wyoming</th>\n",
       "      <th>2012-01-01</th>\n",
       "      <td>1.670944e+09</td>\n",
       "      <td>3.843172e+10</td>\n",
       "    </tr>\n",
       "    <tr>\n",
       "      <th>2013-01-01</th>\n",
       "      <td>1.673965e+09</td>\n",
       "      <td>3.850118e+10</td>\n",
       "    </tr>\n",
       "    <tr>\n",
       "      <th>2014-01-01</th>\n",
       "      <td>1.681164e+09</td>\n",
       "      <td>3.866677e+10</td>\n",
       "    </tr>\n",
       "    <tr>\n",
       "      <th>2015-01-01</th>\n",
       "      <td>1.726388e+09</td>\n",
       "      <td>3.970693e+10</td>\n",
       "    </tr>\n",
       "  </tbody>\n",
       "</table>\n",
       "<p>196 rows × 2 columns</p>\n",
       "</div>"
      ],
      "text/plain": [
       "                              mean           sum\n",
       "State     Year                                  \n",
       "Alabama   2012-01-01  2.780582e+09  1.862990e+11\n",
       "          2013-01-01  2.808378e+09  1.881613e+11\n",
       "          2014-01-01  2.788524e+09  1.868311e+11\n",
       "          2015-01-01  2.825180e+09  1.892870e+11\n",
       "Arizona   2012-01-01  1.788591e+10  2.682886e+11\n",
       "...                            ...           ...\n",
       "Wisconsin 2015-01-01  3.988837e+09  2.871963e+11\n",
       "Wyoming   2012-01-01  1.670944e+09  3.843172e+10\n",
       "          2013-01-01  1.673965e+09  3.850118e+10\n",
       "          2014-01-01  1.681164e+09  3.866677e+10\n",
       "          2015-01-01  1.726388e+09  3.970693e+10\n",
       "\n",
       "[196 rows x 2 columns]"
      ]
     },
     "execution_count": 20,
     "metadata": {},
     "output_type": "execute_result"
    }
   ],
   "source": [
    "# Read in the dataset\n",
    "gdp = pd.read_csv(\"highest_gdp.csv\", delimiter=\",\", encoding=\"windows-1252\")\n",
    "\n",
    "# Filter out all entries where the state is either Alaska or Hawaii.\n",
    "gdp = gdp[(gdp['State'] != \"Alaska\") & (gdp['State'] != \"Hawaii\")]\n",
    "\n",
    "# Remove Region, SUB-REGION, County columns\n",
    "gdp.drop(['Region','SUB_REGION','County'], axis = 1, inplace = True)\n",
    "\n",
    "# Filter the years that are not between 2012 and 2015\n",
    "gdp = gdp[gdp['Year'].isin([2012, 2013, 2014, 2015])]\n",
    "\n",
    "# Convert Year to an integer date type\n",
    "gdp['Year'] = pd.to_datetime(gdp['Year'], format='%Y') \n",
    "\n",
    "# Calculate the mean and sum of the GDP values for each state and year\n",
    "result = gdp.groupby(['State', 'Year'])['GDP (Chained $)'].agg(['mean', 'sum'])\n",
    "result"
   ]
  },
  {
   "attachments": {},
   "cell_type": "markdown",
   "metadata": {},
   "source": [
    "## Holidays"
   ]
  },
  {
   "attachments": {},
   "cell_type": "markdown",
   "metadata": {},
   "source": [
    "For the holiday_USA dataset the following steps were performed:\n",
    "- Read in the dataset\n",
    "- Filter the years that are not between 2012 and 2015\n",
    "- Convert the column Date to a date data type"
   ]
  },
  {
   "cell_type": "code",
   "execution_count": 21,
   "metadata": {},
   "outputs": [
    {
     "name": "stdout",
     "output_type": "stream",
     "text": [
      "<class 'pandas.core.frame.DataFrame'>\n",
      "Int64Index: 76 entries, 8 to 339\n",
      "Data columns (total 6 columns):\n",
      " #   Column   Non-Null Count  Dtype \n",
      "---  ------   --------------  ----- \n",
      " 0   Date     76 non-null     object\n",
      " 1   Holiday  76 non-null     object\n",
      " 2   WeekDay  76 non-null     object\n",
      " 3   Month    76 non-null     int64 \n",
      " 4   Day      76 non-null     int64 \n",
      " 5   Year     76 non-null     int64 \n",
      "dtypes: int64(3), object(3)\n",
      "memory usage: 4.2+ KB\n"
     ]
    }
   ],
   "source": [
    "# Read in the dataset\n",
    "holiday = pd.read_csv(\"HolidayUSA.csv\", delimiter=\",\", encoding=\"windows-1252\")\n",
    "\n",
    "# Filter the years that are not between 2012 and 2015\n",
    "holiday = holiday[holiday['Year'].isin([2012, 2013, 2014, 2015])]\n",
    "\n",
    "# Convert the column Date to a date data type\n",
    "holiday['Date'] = pd.to_datetime(holiday['Date'], format='%Y-%m-%d')\n",
    "holiday['Date'] = holiday['Date'].dt.strftime('%d-%m-%Y')\n",
    "\n",
    "holiday.info()"
   ]
  }
 ],
 "metadata": {
  "kernelspec": {
   "display_name": "Python 3",
   "language": "python",
   "name": "python3"
  },
  "language_info": {
   "codemirror_mode": {
    "name": "ipython",
    "version": 3
   },
   "file_extension": ".py",
   "mimetype": "text/x-python",
   "name": "python",
   "nbconvert_exporter": "python",
   "pygments_lexer": "ipython3",
   "version": "3.11.1"
  },
  "orig_nbformat": 4
 },
 "nbformat": 4,
 "nbformat_minor": 2
}
