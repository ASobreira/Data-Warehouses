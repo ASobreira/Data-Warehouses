{
 "cells": [
  {
   "cell_type": "code",
   "execution_count": 2,
   "metadata": {},
   "outputs": [],
   "source": [
    "import pandas as pd\n",
    "import numpy as np\n",
    "import datetime"
   ]
  },
  {
   "attachments": {},
   "cell_type": "markdown",
   "metadata": {},
   "source": [
    "Tabela customers tirar colunas (deixar tudo relacionado com os costumrs) \n",
    "\n",
    "Tabelas holidays tirar anos que nao servem (ficar com 2012 a 2015) e formatar as colunas \n",
    "\n",
    "GDP - Erase County from the GDP table and group values by states \n",
    "\n",
    "- Say that the GDP data has hawaii and alaska and that they should not be considered when grouping the data \n",
    "\n",
    "- Reformat date from holiday dataset to the main dataset \n",
    "\n",
    "- Grouping counties by state have a column wih the average gdp for state and the sum of gdps of counties for each state. \n",
    "\n",
    "Formatar todas as colunas que faltam na main e  \n",
    "\n",
    "\n",
    "#### holiday"
   ]
  },
  {
   "cell_type": "code",
   "execution_count": 118,
   "metadata": {},
   "outputs": [],
   "source": [
    "holiday = pd.read_csv(\"HolidayUSA.csv\", delimiter=\",\", encoding=\"windows-1252\")"
   ]
  },
  {
   "cell_type": "code",
   "execution_count": 119,
   "metadata": {},
   "outputs": [],
   "source": [
    "#filtrar anos que nao estao entre 2012 e 2015\n",
    "holiday = holiday[holiday['Year'].isin([2012, 2013, 2014, 2015])]"
   ]
  },
  {
   "cell_type": "code",
   "execution_count": 121,
   "metadata": {},
   "outputs": [],
   "source": [
    "#converter Date de int para date type\n",
    "holiday['Date'] = pd.to_datetime(holiday['Date'], format='%Y-%m-%d')\n",
    "holiday['Date'] = holiday['Date'].dt.strftime('%d-%m-%Y')"
   ]
  },
  {
   "attachments": {},
   "cell_type": "markdown",
   "metadata": {},
   "source": [
    "#### gdp"
   ]
  },
  {
   "cell_type": "code",
   "execution_count": 86,
   "metadata": {},
   "outputs": [],
   "source": [
    "gdp = pd.read_csv(\"highest_gdp.csv\", delimiter=\",\", encoding=\"windows-1252\")"
   ]
  },
  {
   "cell_type": "code",
   "execution_count": 87,
   "metadata": {},
   "outputs": [],
   "source": [
    "#filtering out entries with states Alaska\n",
    "gdp = gdp[gdp['State'] != \"Alaska\"]"
   ]
  },
  {
   "cell_type": "code",
   "execution_count": 88,
   "metadata": {},
   "outputs": [],
   "source": [
    "#Hawaii entries filtered too\n",
    "gdp = gdp[gdp['State'] != \"Hawaii\"]"
   ]
  },
  {
   "cell_type": "code",
   "execution_count": 89,
   "metadata": {},
   "outputs": [],
   "source": [
    "#tirar region, sub_region, county\n",
    "gdp.drop(['Region','SUB_REGION','County'], axis = 1, inplace = True)"
   ]
  },
  {
   "cell_type": "code",
   "execution_count": 90,
   "metadata": {},
   "outputs": [
    {
     "name": "stdout",
     "output_type": "stream",
     "text": [
      "nr of states: 49\n",
      "unique states:\n",
      " ['Alabama' 'Arizona' 'Arkansas' 'California' 'Colorado' 'Idaho' 'Illinois'\n",
      " 'Indiana' 'Iowa' 'Maine' 'Maryland' 'Massachusetts' 'Michigan'\n",
      " 'Minnesota' 'Mississippi' 'Connecticut' 'Delaware' 'District of Columbia'\n",
      " 'Florida' 'Georgia' 'South Dakota' 'Tennessee' 'Texas' 'Kansas'\n",
      " 'Kentucky' 'Louisiana' 'Utah' 'Vermont' 'Virginia' 'Washington'\n",
      " 'New Jersey' 'New Mexico' 'New York' 'North Carolina' 'North Dakota'\n",
      " 'Ohio' 'West Virginia' 'Wisconsin' 'Missouri' 'Wyoming' 'Montana'\n",
      " 'Nebraska' 'Nevada' 'New Hampshire' 'Oklahoma' 'Oregon' 'Pennsylvania'\n",
      " 'Rhode Island' 'South Carolina']\n"
     ]
    }
   ],
   "source": [
    "print(\"nr of states:\", len(pd.unique(gdp['State'])))\n",
    "print(\"unique states:\\n\", pd.unique(gdp['State']))"
   ]
  },
  {
   "cell_type": "code",
   "execution_count": 91,
   "metadata": {},
   "outputs": [],
   "source": [
    "#filtrar anos que nao estao entre 2012 e 2015\n",
    "gdp = gdp[gdp['Year'].isin([2012, 2013, 2014, 2015])]"
   ]
  },
  {
   "cell_type": "code",
   "execution_count": 92,
   "metadata": {},
   "outputs": [
    {
     "data": {
      "text/html": [
       "<div>\n",
       "<style scoped>\n",
       "    .dataframe tbody tr th:only-of-type {\n",
       "        vertical-align: middle;\n",
       "    }\n",
       "\n",
       "    .dataframe tbody tr th {\n",
       "        vertical-align: top;\n",
       "    }\n",
       "\n",
       "    .dataframe thead th {\n",
       "        text-align: right;\n",
       "    }\n",
       "</style>\n",
       "<table border=\"1\" class=\"dataframe\">\n",
       "  <thead>\n",
       "    <tr style=\"text-align: right;\">\n",
       "      <th></th>\n",
       "      <th>index</th>\n",
       "      <th>Year</th>\n",
       "      <th>State</th>\n",
       "      <th>GDP (Chained $)</th>\n",
       "    </tr>\n",
       "  </thead>\n",
       "  <tbody>\n",
       "    <tr>\n",
       "      <th>2393</th>\n",
       "      <td>2393</td>\n",
       "      <td>2012</td>\n",
       "      <td>Alabama</td>\n",
       "      <td>1.482770e+09</td>\n",
       "    </tr>\n",
       "    <tr>\n",
       "      <th>2394</th>\n",
       "      <td>2394</td>\n",
       "      <td>2012</td>\n",
       "      <td>Alabama</td>\n",
       "      <td>5.016735e+09</td>\n",
       "    </tr>\n",
       "    <tr>\n",
       "      <th>2395</th>\n",
       "      <td>2395</td>\n",
       "      <td>2012</td>\n",
       "      <td>Alabama</td>\n",
       "      <td>7.269090e+08</td>\n",
       "    </tr>\n",
       "    <tr>\n",
       "      <th>2396</th>\n",
       "      <td>2396</td>\n",
       "      <td>2012</td>\n",
       "      <td>Alabama</td>\n",
       "      <td>3.744350e+08</td>\n",
       "    </tr>\n",
       "    <tr>\n",
       "      <th>2397</th>\n",
       "      <td>2397</td>\n",
       "      <td>2012</td>\n",
       "      <td>Alabama</td>\n",
       "      <td>8.047630e+08</td>\n",
       "    </tr>\n",
       "  </tbody>\n",
       "</table>\n",
       "</div>"
      ],
      "text/plain": [
       "      index  Year    State  GDP (Chained $)\n",
       "2393   2393  2012  Alabama     1.482770e+09\n",
       "2394   2394  2012  Alabama     5.016735e+09\n",
       "2395   2395  2012  Alabama     7.269090e+08\n",
       "2396   2396  2012  Alabama     3.744350e+08\n",
       "2397   2397  2012  Alabama     8.047630e+08"
      ]
     },
     "execution_count": 92,
     "metadata": {},
     "output_type": "execute_result"
    }
   ],
   "source": [
    "gdp.head(5)"
   ]
  },
  {
   "cell_type": "code",
   "execution_count": 73,
   "metadata": {},
   "outputs": [
    {
     "name": "stdout",
     "output_type": "stream",
     "text": [
      "nr of states: 49\n",
      "unique states:\n",
      " ['Alabama' 'Arizona' 'Arkansas' 'California' 'Colorado' 'Connecticut'\n",
      " 'Delaware' 'District of Columbia' 'Florida' 'Georgia' 'Idaho'\n",
      " 'New Jersey' 'New Mexico' 'New York' 'North Carolina' 'North Dakota'\n",
      " 'Ohio' 'Illinois' 'Indiana' 'Iowa' 'Kansas' 'Kentucky' 'Louisiana'\n",
      " 'Maine' 'Maryland' 'Massachusetts' 'Michigan' 'Minnesota' 'Mississippi'\n",
      " 'Missouri' 'Montana' 'South Dakota' 'Tennessee' 'Texas' 'Oklahoma'\n",
      " 'Oregon' 'Pennsylvania' 'Rhode Island' 'South Carolina' 'Utah' 'Vermont'\n",
      " 'Virginia' 'Washington' 'West Virginia' 'Wisconsin' 'Wyoming' 'Nebraska'\n",
      " 'Nevada' 'New Hampshire']\n"
     ]
    }
   ],
   "source": [
    "#colocar em cada linha no respetivo year e state o gdp de todos os counties desse year e state\n",
    "\n",
    "#usar dataframe.groupby??\n",
    "\n",
    "# gdp['Average GDP of counties in state']\n",
    "# gdp['GDP sum of counties in state']\n",
    "\n",
    "# for i in len(pd.unique(gdp['Year']):\n",
    "#     for j len(pd.unique(gdp['State']):"
   ]
  },
  {
   "cell_type": "code",
   "execution_count": 84,
   "metadata": {},
   "outputs": [],
   "source": [
    "#converter year de int para date type\n",
    "gdp['Year'] = pd.to_datetime(gdp['Year'], format='%Y') "
   ]
  },
  {
   "cell_type": "code",
   "execution_count": 85,
   "metadata": {},
   "outputs": [
    {
     "name": "stdout",
     "output_type": "stream",
     "text": [
      "       index       Year    State  GDP (Chained $)\n",
      "2393    2393 2012-01-01  Alabama     1.482770e+09\n",
      "2394    2394 2012-01-01  Alabama     5.016735e+09\n",
      "2395    2395 2012-01-01  Alabama     7.269090e+08\n",
      "2396    2396 2012-01-01  Alabama     3.744350e+08\n",
      "2397    2397 2012-01-01  Alabama     8.047630e+08\n",
      "...      ...        ...      ...              ...\n",
      "45824  45824 2013-01-01    Texas     1.095677e+10\n",
      "45825  45825 2013-01-01    Texas     3.458479e+09\n",
      "45826  45826 2013-01-01    Texas     8.292390e+08\n",
      "45827  45827 2013-01-01    Texas     2.477450e+08\n",
      "45828  45828 2013-01-01    Texas     3.282666e+09\n",
      "\n",
      "[12228 rows x 4 columns]\n",
      "index                       int64\n",
      "Year               datetime64[ns]\n",
      "State                      object\n",
      "GDP (Chained $)           float64\n",
      "dtype: object\n"
     ]
    }
   ],
   "source": [
    "#nao consegui fazer com que apenas mostrasse ano sem o dia e mes a 1\n",
    "print (gdp)\n",
    "print (gdp.dtypes)"
   ]
  },
  {
   "cell_type": "code",
   "execution_count": null,
   "metadata": {},
   "outputs": [],
   "source": []
  }
 ],
 "metadata": {
  "kernelspec": {
   "display_name": "Python 3",
   "language": "python",
   "name": "python3"
  },
  "language_info": {
   "codemirror_mode": {
    "name": "ipython",
    "version": 3
   },
   "file_extension": ".py",
   "mimetype": "text/x-python",
   "name": "python",
   "nbconvert_exporter": "python",
   "pygments_lexer": "ipython3",
   "version": "3.10.10"
  },
  "orig_nbformat": 4
 },
 "nbformat": 4,
 "nbformat_minor": 2
}
