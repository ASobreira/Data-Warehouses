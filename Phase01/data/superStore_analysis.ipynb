{
 "cells": [
  {
   "attachments": {},
   "cell_type": "markdown",
   "metadata": {},
   "source": [
    "# Libraries"
   ]
  },
  {
   "cell_type": "code",
   "execution_count": 44,
   "metadata": {},
   "outputs": [],
   "source": [
    "import pandas as pd"
   ]
  },
  {
   "attachments": {},
   "cell_type": "markdown",
   "metadata": {},
   "source": [
    "## Orders (Main table)"
   ]
  },
  {
   "cell_type": "code",
   "execution_count": 45,
   "metadata": {},
   "outputs": [],
   "source": [
    "# Read in the dataset\n",
    "main = pd.read_excel('main.xlsx')\n",
    "\n",
    "# Convert Row ID and Quantity to integer data type\n",
    "main['Row ID'] = main['Row ID'].astype(int)\n",
    "main['Quantity'] = main['Quantity'].astype(int)\n",
    "\n",
    "# Convert Order ID, Customer ID, Customer Name, City, State, Country, Region, Market, Product ID and Product Name to string data type\n",
    "main['Order ID'] = main['Order ID'].astype(str)\n",
    "main['Customer ID'] = main['Customer ID'].astype(str)\n",
    "main['Customer Name'] = main['Customer Name'].astype(str)\n",
    "main['City'] = main['City'].astype(str)\n",
    "main['State'] = main['State'].astype(str)\n",
    "main['Country'] = main['Country'].astype(str)\n",
    "main['Region'] = main['Region'].astype(str)\n",
    "main['Market'] = main['Market'].astype(str)\n",
    "main['Product ID'] = main['Product ID'].astype(str)\n",
    "main['Product Name'] = main['Product Name'].astype(str)\n",
    "\n",
    "# Convert Ship Date and Order Date to date data type\n",
    "main['Ship Date'] = pd.to_datetime(main['Ship Date'])\n",
    "main['Order Date'] = pd.to_datetime(main['Order Date'])\n",
    "\n",
    "# Convert Segment, Category, Sub-Category and Order Priority to category data type\n",
    "main['Segment'] = main['Segment'].astype('category')\n",
    "main['Category'] = main['Category'].astype('category')\n",
    "main['Sub-Category'] = main['Sub-Category'].astype('category')\n",
    "main['Order Priority'] = main['Order Priority'].astype('category')"
   ]
  },
  {
   "cell_type": "code",
   "execution_count": 46,
   "metadata": {},
   "outputs": [],
   "source": [
    "main = main.drop('Postal Code', axis=1)"
   ]
  },
  {
   "cell_type": "code",
   "execution_count": 47,
   "metadata": {},
   "outputs": [
    {
     "name": "stdout",
     "output_type": "stream",
     "text": [
      "<class 'pandas.core.frame.DataFrame'>\n",
      "RangeIndex: 51290 entries, 0 to 51289\n",
      "Data columns (total 23 columns):\n",
      " #   Column          Non-Null Count  Dtype         \n",
      "---  ------          --------------  -----         \n",
      " 0   Row ID          51290 non-null  int32         \n",
      " 1   Order ID        51290 non-null  object        \n",
      " 2   Order Date      51290 non-null  datetime64[ns]\n",
      " 3   Ship Date       51290 non-null  datetime64[ns]\n",
      " 4   Ship Mode       51290 non-null  object        \n",
      " 5   Customer ID     51290 non-null  object        \n",
      " 6   Customer Name   51290 non-null  object        \n",
      " 7   Segment         51290 non-null  category      \n",
      " 8   City            51290 non-null  object        \n",
      " 9   State           51290 non-null  object        \n",
      " 10  Country         51290 non-null  object        \n",
      " 11  Region          51290 non-null  object        \n",
      " 12  Market          51290 non-null  object        \n",
      " 13  Product ID      51290 non-null  object        \n",
      " 14  Category        51290 non-null  category      \n",
      " 15  Sub-Category    51290 non-null  category      \n",
      " 16  Product Name    51290 non-null  object        \n",
      " 17  Sales           51290 non-null  float64       \n",
      " 18  Quantity        51290 non-null  int32         \n",
      " 19  Discount        51290 non-null  float64       \n",
      " 20  Profit          51290 non-null  float64       \n",
      " 21  Shipping Cost   51290 non-null  float64       \n",
      " 22  Order Priority  51290 non-null  category      \n",
      "dtypes: category(4), datetime64[ns](2), float64(4), int32(2), object(11)\n",
      "memory usage: 7.2+ MB\n"
     ]
    }
   ],
   "source": [
    "main.info()"
   ]
  },
  {
   "attachments": {},
   "cell_type": "markdown",
   "metadata": {},
   "source": [
    "## Customers Table"
   ]
  },
  {
   "cell_type": "code",
   "execution_count": 48,
   "metadata": {},
   "outputs": [],
   "source": [
    "# Read in the dataset\n",
    "customers = pd.read_csv('costumers.csv', encoding='latin1')\n",
    "\n",
    "# Convert Row ID and Quantity to integer data type\n",
    "customers['Row ID'] = customers['Row ID'].astype(int)\n",
    "customers['Quantity'] = customers['Quantity'].astype(int)\n",
    "\n",
    "# Convert Order ID, Customer ID, Customer Name, City, State, Country, Region, Market, Product ID and Product Name to string data type\n",
    "customers['Order ID'] = customers['Order ID'].astype(str)\n",
    "customers['Customer ID'] = customers['Customer ID'].astype(str)\n",
    "customers['Customer Name'] = customers['Customer Name'].astype(str)\n",
    "customers['City'] = customers['City'].astype(str)\n",
    "customers['State'] = customers['State'].astype(str)\n",
    "customers['Country'] = customers['Country'].astype(str)\n",
    "customers['Region'] = customers['Region'].astype(str)\n",
    "customers['Product ID'] = customers['Product ID'].astype(str)\n",
    "customers['Product Name'] = customers['Product Name'].astype(str)\n",
    "\n",
    "# Convert Ship Date and Order Date to date data type\n",
    "customers['Ship Date'] = pd.to_datetime(df['Ship Date'])\n",
    "customers['Order Date'] = pd.to_datetime(df['Order Date'])\n",
    "\n",
    "# Convert Segment, Category, Sub-Category and Order Priority to category data type\n",
    "customers['Segment'] = customers['Segment'].astype('category')\n",
    "customers['Category'] = customers['Category'].astype('category')\n",
    "customers['Sub-Category'] = customers['Sub-Category'].astype('category')"
   ]
  },
  {
   "cell_type": "code",
   "execution_count": 49,
   "metadata": {},
   "outputs": [
    {
     "name": "stdout",
     "output_type": "stream",
     "text": [
      "<class 'pandas.core.frame.DataFrame'>\n",
      "RangeIndex: 9994 entries, 0 to 9993\n",
      "Data columns (total 21 columns):\n",
      " #   Column         Non-Null Count  Dtype         \n",
      "---  ------         --------------  -----         \n",
      " 0   Row ID         9994 non-null   int32         \n",
      " 1   Order ID       9994 non-null   object        \n",
      " 2   Order Date     9994 non-null   datetime64[ns]\n",
      " 3   Ship Date      9994 non-null   datetime64[ns]\n",
      " 4   Ship Mode      9994 non-null   object        \n",
      " 5   Customer ID    9994 non-null   object        \n",
      " 6   Customer Name  9994 non-null   object        \n",
      " 7   Segment        9994 non-null   category      \n",
      " 8   Country        9994 non-null   object        \n",
      " 9   City           9994 non-null   object        \n",
      " 10  State          9994 non-null   object        \n",
      " 11  Postal Code    9994 non-null   int64         \n",
      " 12  Region         9994 non-null   object        \n",
      " 13  Product ID     9994 non-null   object        \n",
      " 14  Category       9994 non-null   category      \n",
      " 15  Sub-Category   9994 non-null   category      \n",
      " 16  Product Name   9994 non-null   object        \n",
      " 17  Sales          9994 non-null   float64       \n",
      " 18  Quantity       9994 non-null   int32         \n",
      " 19  Discount       9994 non-null   float64       \n",
      " 20  Profit         9994 non-null   float64       \n",
      "dtypes: category(3), datetime64[ns](2), float64(3), int32(2), int64(1), object(10)\n",
      "memory usage: 1.3+ MB\n"
     ]
    }
   ],
   "source": [
    "customers.info()"
   ]
  },
  {
   "attachments": {},
   "cell_type": "markdown",
   "metadata": {},
   "source": [
    "## Returns Table"
   ]
  },
  {
   "cell_type": "code",
   "execution_count": 50,
   "metadata": {},
   "outputs": [
    {
     "name": "stdout",
     "output_type": "stream",
     "text": [
      "<class 'pandas.core.frame.DataFrame'>\n",
      "RangeIndex: 1079 entries, 0 to 1078\n",
      "Data columns (total 3 columns):\n",
      " #   Column    Non-Null Count  Dtype \n",
      "---  ------    --------------  ----- \n",
      " 0   Returned  1079 non-null   object\n",
      " 1   Order ID  1079 non-null   object\n",
      " 2   Region    1079 non-null   object\n",
      "dtypes: object(3)\n",
      "memory usage: 25.4+ KB\n"
     ]
    }
   ],
   "source": [
    "returns = pd.read_csv('returns.csv', encoding='latin1')\n",
    "# Convert Row ID and Quantity to integer data type\n",
    "customers['Order ID'] = customers['Order ID'].astype(str)\n",
    "customers['Region'] = customers['Region'].astype(str)\n",
    "#customers['Returned'] = customers['Returned'].map({'Yes': True, 'No': False})\n",
    "#customers['Returned'] = customers['Returned'].astype(bool)\n",
    "returns.info()\n"
   ]
  },
  {
   "attachments": {},
   "cell_type": "markdown",
   "metadata": {},
   "source": [
    "## Sellers"
   ]
  },
  {
   "cell_type": "code",
   "execution_count": 51,
   "metadata": {},
   "outputs": [
    {
     "name": "stdout",
     "output_type": "stream",
     "text": [
      "                  Person             Region\n",
      "0      Marilène Rousseau          Caribbean\n",
      "1       Andile Ihejirika     Central Africa\n",
      "2      Nicodemo Bautista    Central America\n",
      "3         Cansu Peynirci       Central Asia\n",
      "4             Lon Bonher         Central US\n",
      "5           Wasswa Ahmed     Eastern Africa\n",
      "6          Hadia Bousaid       Eastern Asia\n",
      "7         Lynne Marchand     Eastern Canada\n",
      "8          Oxana Lagunov     Eastern Europe\n",
      "9          Dolores Davis         Eastern US\n",
      "10      Lindiwe Afolayan       North Africa\n",
      "11          Miina Nylund    Northern Europe\n",
      "12           Kauri Anaru            Oceania\n",
      "13       Vasco Magalhães      South America\n",
      "14      Preecha Metharom  Southeastern Asia\n",
      "15          Nora Cuijper    Southern Africa\n",
      "16  Chandrakant Chaudhri      Southern Asia\n",
      "17           Gavino Bove    Southern Europe\n",
      "18       Flannery Newton        Southern US\n",
      "19        Katlego Akosua     Western Africa\n",
      "20             Kaoru Xun       Western Asia\n",
      "21        Angela Jephson     Western Canada\n",
      "22         Gilbert Wolff     Western Europe\n",
      "23       Derrick Snyders         Western US\n"
     ]
    }
   ],
   "source": [
    "sellers = pd.read_csv('sellers.csv', delimiter=';')\n",
    "print(sellers)\n",
    "# Convert Row ID and Quantity to integer data type\n",
    "sellers['Person'] = sellers['Person'].astype(str)\n",
    "sellers['Region'] = sellers['Region'].astype(str)\n",
    "#customers['Returned'] = customers['Returned'].map({'Yes': True, 'No': False})\n",
    "#customers['Returned'] = customers['Returned'].astype(bool)"
   ]
  },
  {
   "attachments": {},
   "cell_type": "markdown",
   "metadata": {},
   "source": [
    "## GDP"
   ]
  },
  {
   "cell_type": "code",
   "execution_count": 52,
   "metadata": {},
   "outputs": [
    {
     "name": "stdout",
     "output_type": "stream",
     "text": [
      "nr of states: 49\n",
      "unique states:\n",
      " ['Alabama' 'Arizona' 'Arkansas' 'California' 'Colorado' 'Idaho' 'Illinois'\n",
      " 'Indiana' 'Iowa' 'Maine' 'Maryland' 'Massachusetts' 'Michigan'\n",
      " 'Minnesota' 'Mississippi' 'Connecticut' 'Delaware' 'District of Columbia'\n",
      " 'Florida' 'Georgia' 'South Dakota' 'Tennessee' 'Texas' 'Kansas'\n",
      " 'Kentucky' 'Louisiana' 'Utah' 'Vermont' 'Virginia' 'Washington'\n",
      " 'New Jersey' 'New Mexico' 'New York' 'North Carolina' 'North Dakota'\n",
      " 'Ohio' 'West Virginia' 'Wisconsin' 'Missouri' 'Wyoming' 'Montana'\n",
      " 'Nebraska' 'Nevada' 'New Hampshire' 'Oklahoma' 'Oregon' 'Pennsylvania'\n",
      " 'Rhode Island' 'South Carolina']\n"
     ]
    }
   ],
   "source": [
    "gdp = pd.read_csv(\"highest_gdp.csv\", delimiter=\",\", encoding=\"windows-1252\")\n",
    "\n",
    "#filtering out entries with states Alaska\n",
    "gdp = gdp[gdp['State'] != \"Alaska\"]\n",
    "\n",
    "#Hawaii entries filtered too\n",
    "gdp = gdp[gdp['State'] != \"Hawaii\"]\n",
    "\n",
    "#tirar region, sub_region, county\n",
    "gdp.drop(['Region','SUB_REGION','County'], axis = 1, inplace = True)\n",
    "\n",
    "print(\"nr of states:\", len(pd.unique(gdp['State'])))\n",
    "print(\"unique states:\\n\", pd.unique(gdp['State']))"
   ]
  },
  {
   "cell_type": "code",
   "execution_count": 53,
   "metadata": {},
   "outputs": [],
   "source": [
    "#filtrar anos que nao estao entre 2012 e 2015\n",
    "gdp = gdp[gdp['Year'].isin([2012, 2013, 2014, 2015])]\n",
    "\n",
    "#converter year de int para date type\n",
    "gdp['Year'] = pd.to_datetime(gdp['Year'], format='%Y') "
   ]
  },
  {
   "cell_type": "code",
   "execution_count": 54,
   "metadata": {},
   "outputs": [
    {
     "data": {
      "text/html": [
       "<div>\n",
       "<style scoped>\n",
       "    .dataframe tbody tr th:only-of-type {\n",
       "        vertical-align: middle;\n",
       "    }\n",
       "\n",
       "    .dataframe tbody tr th {\n",
       "        vertical-align: top;\n",
       "    }\n",
       "\n",
       "    .dataframe thead th {\n",
       "        text-align: right;\n",
       "    }\n",
       "</style>\n",
       "<table border=\"1\" class=\"dataframe\">\n",
       "  <thead>\n",
       "    <tr style=\"text-align: right;\">\n",
       "      <th></th>\n",
       "      <th></th>\n",
       "      <th>mean</th>\n",
       "      <th>sum</th>\n",
       "    </tr>\n",
       "    <tr>\n",
       "      <th>State</th>\n",
       "      <th>Year</th>\n",
       "      <th></th>\n",
       "      <th></th>\n",
       "    </tr>\n",
       "  </thead>\n",
       "  <tbody>\n",
       "    <tr>\n",
       "      <th rowspan=\"4\" valign=\"top\">Alabama</th>\n",
       "      <th>2012-01-01</th>\n",
       "      <td>2.780582e+09</td>\n",
       "      <td>1.862990e+11</td>\n",
       "    </tr>\n",
       "    <tr>\n",
       "      <th>2013-01-01</th>\n",
       "      <td>2.808378e+09</td>\n",
       "      <td>1.881613e+11</td>\n",
       "    </tr>\n",
       "    <tr>\n",
       "      <th>2014-01-01</th>\n",
       "      <td>2.788524e+09</td>\n",
       "      <td>1.868311e+11</td>\n",
       "    </tr>\n",
       "    <tr>\n",
       "      <th>2015-01-01</th>\n",
       "      <td>2.825180e+09</td>\n",
       "      <td>1.892870e+11</td>\n",
       "    </tr>\n",
       "    <tr>\n",
       "      <th>Arizona</th>\n",
       "      <th>2012-01-01</th>\n",
       "      <td>1.788591e+10</td>\n",
       "      <td>2.682886e+11</td>\n",
       "    </tr>\n",
       "    <tr>\n",
       "      <th>...</th>\n",
       "      <th>...</th>\n",
       "      <td>...</td>\n",
       "      <td>...</td>\n",
       "    </tr>\n",
       "    <tr>\n",
       "      <th>Wisconsin</th>\n",
       "      <th>2015-01-01</th>\n",
       "      <td>3.988837e+09</td>\n",
       "      <td>2.871963e+11</td>\n",
       "    </tr>\n",
       "    <tr>\n",
       "      <th rowspan=\"4\" valign=\"top\">Wyoming</th>\n",
       "      <th>2012-01-01</th>\n",
       "      <td>1.670944e+09</td>\n",
       "      <td>3.843172e+10</td>\n",
       "    </tr>\n",
       "    <tr>\n",
       "      <th>2013-01-01</th>\n",
       "      <td>1.673965e+09</td>\n",
       "      <td>3.850118e+10</td>\n",
       "    </tr>\n",
       "    <tr>\n",
       "      <th>2014-01-01</th>\n",
       "      <td>1.681164e+09</td>\n",
       "      <td>3.866677e+10</td>\n",
       "    </tr>\n",
       "    <tr>\n",
       "      <th>2015-01-01</th>\n",
       "      <td>1.726388e+09</td>\n",
       "      <td>3.970693e+10</td>\n",
       "    </tr>\n",
       "  </tbody>\n",
       "</table>\n",
       "<p>196 rows × 2 columns</p>\n",
       "</div>"
      ],
      "text/plain": [
       "                              mean           sum\n",
       "State     Year                                  \n",
       "Alabama   2012-01-01  2.780582e+09  1.862990e+11\n",
       "          2013-01-01  2.808378e+09  1.881613e+11\n",
       "          2014-01-01  2.788524e+09  1.868311e+11\n",
       "          2015-01-01  2.825180e+09  1.892870e+11\n",
       "Arizona   2012-01-01  1.788591e+10  2.682886e+11\n",
       "...                            ...           ...\n",
       "Wisconsin 2015-01-01  3.988837e+09  2.871963e+11\n",
       "Wyoming   2012-01-01  1.670944e+09  3.843172e+10\n",
       "          2013-01-01  1.673965e+09  3.850118e+10\n",
       "          2014-01-01  1.681164e+09  3.866677e+10\n",
       "          2015-01-01  1.726388e+09  3.970693e+10\n",
       "\n",
       "[196 rows x 2 columns]"
      ]
     },
     "execution_count": 54,
     "metadata": {},
     "output_type": "execute_result"
    }
   ],
   "source": [
    "result = gdp.groupby(['State', 'Year'])['GDP (Chained $)'].agg(['mean', 'sum'])\n",
    "result"
   ]
  },
  {
   "attachments": {},
   "cell_type": "markdown",
   "metadata": {},
   "source": [
    "## Holidays"
   ]
  },
  {
   "cell_type": "code",
   "execution_count": 55,
   "metadata": {},
   "outputs": [],
   "source": [
    "holiday = pd.read_csv(\"HolidayUSA.csv\", delimiter=\",\", encoding=\"windows-1252\")\n",
    "\n",
    "#filtrar anos que nao estao entre 2012 e 2015\n",
    "holiday = holiday[holiday['Year'].isin([2012, 2013, 2014, 2015])]\n",
    "\n",
    "#converter Date de int para date type\n",
    "holiday['Date'] = pd.to_datetime(holiday['Date'], format='%Y-%m-%d')\n",
    "holiday['Date'] = holiday['Date'].dt.strftime('%d-%m-%Y')"
   ]
  }
 ],
 "metadata": {
  "kernelspec": {
   "display_name": "Python 3",
   "language": "python",
   "name": "python3"
  },
  "language_info": {
   "codemirror_mode": {
    "name": "ipython",
    "version": 3
   },
   "file_extension": ".py",
   "mimetype": "text/x-python",
   "name": "python",
   "nbconvert_exporter": "python",
   "pygments_lexer": "ipython3",
   "version": "3.11.1"
  },
  "orig_nbformat": 4
 },
 "nbformat": 4,
 "nbformat_minor": 2
}
