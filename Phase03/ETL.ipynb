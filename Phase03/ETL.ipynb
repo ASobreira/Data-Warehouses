{
 "cells": [
  {
   "cell_type": "code",
   "execution_count": 1,
   "metadata": {},
   "outputs": [],
   "source": [
    "import os\n",
    "import pandas as pd"
   ]
  },
  {
   "attachments": {},
   "cell_type": "markdown",
   "metadata": {},
   "source": [
    "## Extraction"
   ]
  },
  {
   "cell_type": "code",
   "execution_count": 2,
   "metadata": {},
   "outputs": [],
   "source": [
    "directory = \"../Phase01/data/New_Tables/\""
   ]
  },
  {
   "cell_type": "code",
   "execution_count": 3,
   "metadata": {},
   "outputs": [],
   "source": [
    "operational_data = {} \n",
    "\n",
    "for file_name in os.listdir(directory):\n",
    "    if file_name.endswith('.csv'): \n",
    "        file_path = os.path.join(directory, file_name) \n",
    "        df = pd.read_csv(file_path) \n",
    "        df_name = file_name.replace('.csv', '') \n",
    "        operational_data[df_name] = df \n",
    "    elif file_name.endswith('.xlsx'): \n",
    "        file_path = os.path.join(directory, file_name) \n",
    "        df = pd.read_excel(file_path) \n",
    "        df_name = file_name.replace('.xlsx', '')\n",
    "        operational_data[df_name] = df \n",
    "        continue"
   ]
  },
  {
   "cell_type": "code",
   "execution_count": 4,
   "metadata": {},
   "outputs": [
    {
     "name": "stdout",
     "output_type": "stream",
     "text": [
      "The tables imported from the operational system are: \n",
      "AVG_GDP_USA_NEW\n",
      "customers_USA_NEW\n",
      "GDP_USA_NEW\n",
      "holiday_USA_NEW\n",
      "orders_NEW\n",
      "returns_NEW\n",
      "sellers_NEW\n"
     ]
    }
   ],
   "source": [
    "print(\"The tables imported from the operational system are: \")\n",
    "for df in operational_data:\n",
    "    print(df)"
   ]
  },
  {
   "attachments": {},
   "cell_type": "markdown",
   "metadata": {},
   "source": [
    "## Transformation & Model Creation & Loading"
   ]
  },
  {
   "attachments": {},
   "cell_type": "markdown",
   "metadata": {},
   "source": [
    "### Holiday Dimension - Alex"
   ]
  },
  {
   "cell_type": "code",
   "execution_count": 7,
   "metadata": {},
   "outputs": [
    {
     "name": "stderr",
     "output_type": "stream",
     "text": [
      "C:\\Users\\afbso\\AppData\\Local\\Temp\\ipykernel_6392\\824449367.py:5: UserWarning: The argument 'infer_datetime_format' is deprecated and will be removed in a future version. A strict version of it is now the default, see https://pandas.pydata.org/pdeps/0004-consistent-to-datetime-parsing.html. You can safely remove this argument.\n",
      "  Holiday_Dimension[\"Full_Holiday_Date\"] = pd.to_datetime(operational_data[\"holiday_USA_NEW\"][\"Date\"], infer_datetime_format = True )\n"
     ]
    }
   ],
   "source": [
    "#DataFrame\n",
    "Holiday_Dimension = pd.DataFrame()\n",
    "#Columns\n",
    "#Full Holiday Date\n",
    "Holiday_Dimension[\"Full_Holiday_Date\"] = pd.to_datetime(operational_data[\"holiday_USA_NEW\"][\"Date\"], infer_datetime_format = True )\n",
    "\n",
    "# Holiday Key (PK)\n",
    "Holiday_Dimension.index.name = \"Holiday_Key\"\n",
    "\n",
    "# Holiday Name\n",
    "Holiday_Dimension[\"Holiday Name\"] = operational_data[\"holiday_USA_NEW\"][\"Holiday\"]\n",
    "# Year Holiday\n",
    "Holiday_Dimension[\"Year Holiday\"] = operational_data[\"holiday_USA_NEW\"][\"Year\"]\n",
    "\n",
    "# Month Holiday\t\n",
    "Holiday_Dimension[\"Month Holiday\"] = operational_data[\"holiday_USA_NEW\"][\"Month\"]\n",
    "\n",
    "# Day Month Holiday\n",
    "Holiday_Dimension[\"Day Month Holiday\"] = operational_data[\"holiday_USA_NEW\"][\"Day\"]\n",
    "\n",
    "# Day Week Holiday\n",
    "Holiday_Dimension['Day_Week_Holiday'] = Holiday_Dimension['Full_Holiday_Date'].dt.strftime('%A')"
   ]
  },
  {
   "attachments": {},
   "cell_type": "markdown",
   "metadata": {},
   "source": [
    "### Shipment Date Dimension - Alex"
   ]
  },
  {
   "cell_type": "code",
   "execution_count": 7,
   "metadata": {},
   "outputs": [],
   "source": [
    "# Columns\n",
    "# Ship Date Key\n",
    "\n",
    "# Ship Full Date Description\n",
    "\n",
    "# Ship Year\n",
    "\n",
    "# Ship Season\n",
    "\n",
    "#Ship Semester\n",
    "\n",
    "# Ship Month Number Year\n",
    "\n",
    "# Ship Week Number Year\n",
    "\n",
    "# Ship Day Number Month\n",
    "\n",
    "# Ship Day  Number Week\n",
    "\n",
    "# Ship Day Name Week\n",
    "\n",
    "# Holiday Key\n",
    "\n",
    "# Holiday indicator\n",
    "\n",
    "# Weekend Indicator"
   ]
  },
  {
   "attachments": {},
   "cell_type": "markdown",
   "metadata": {},
   "source": [
    "### Order Date Dimension - Alex"
   ]
  },
  {
   "cell_type": "code",
   "execution_count": 8,
   "metadata": {},
   "outputs": [],
   "source": [
    "# Columns\n",
    "# Order Date Key\n",
    "\n",
    "# Order Full Date Description\n",
    "\n",
    "# Order Year\n",
    "\n",
    "# Order Season\n",
    "\n",
    "#Order Semester\n",
    "\n",
    "# Order Month Number Year\n",
    "\n",
    "# Order Week Number Year\n",
    "\n",
    "# Order Day Number Month\n",
    "\n",
    "# Order Day  Number Week\n",
    "\n",
    "# Order Day Name Week\n",
    "\n",
    "# Holiday Key\n",
    "\n",
    "# Holiday indicator\n",
    "\n",
    "# Weekend Indicator"
   ]
  },
  {
   "attachments": {},
   "cell_type": "markdown",
   "metadata": {},
   "source": [
    "### Product Dimension - - Martim"
   ]
  },
  {
   "attachments": {},
   "cell_type": "markdown",
   "metadata": {},
   "source": [
    "### Order Information Dimension - Martim"
   ]
  },
  {
   "attachments": {},
   "cell_type": "markdown",
   "metadata": {},
   "source": [
    "### Seller Dimension - Martim"
   ]
  },
  {
   "attachments": {},
   "cell_type": "markdown",
   "metadata": {},
   "source": [
    "### GDP Dimension - Jimmy"
   ]
  },
  {
   "attachments": {},
   "cell_type": "markdown",
   "metadata": {},
   "source": [
    "### Customer - Jimmy"
   ]
  },
  {
   "attachments": {},
   "cell_type": "markdown",
   "metadata": {},
   "source": [
    "### Facts Table"
   ]
  }
 ],
 "metadata": {
  "kernelspec": {
   "display_name": "Python 3",
   "language": "python",
   "name": "python3"
  },
  "language_info": {
   "codemirror_mode": {
    "name": "ipython",
    "version": 3
   },
   "file_extension": ".py",
   "mimetype": "text/x-python",
   "name": "python",
   "nbconvert_exporter": "python",
   "pygments_lexer": "ipython3",
   "version": "3.10.11"
  },
  "orig_nbformat": 4
 },
 "nbformat": 4,
 "nbformat_minor": 2
}
